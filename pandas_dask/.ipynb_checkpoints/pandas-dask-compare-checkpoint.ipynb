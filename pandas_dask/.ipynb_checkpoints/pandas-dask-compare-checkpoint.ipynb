{
 "cells": [
  {
   "cell_type": "code",
   "execution_count": null,
   "metadata": {},
   "outputs": [],
   "source": [
    "print(\"Loading Libraries...\")\n",
    "import os\n",
    "import csv\n",
    "import numpy as np\n",
    "from scipy.fftpack import fft\n",
    "import pandas as pd\n",
    "import dask.dataframe as dd\n",
    "print(\"Loaded Libraries...\")"
   ]
  },
  {
   "cell_type": "code",
   "execution_count": null,
   "metadata": {},
   "outputs": [],
   "source": [
    "print(\"Loading directories..\")\n",
    "path_main = 'C:/Users/JMosiezny/Documents/05_projekty/01_programowanie/02_python/01_Power/PP-data_analysis_in_python/pandas_dask'\n",
    "path_acu = 'C:/Users/JMosiezny/Documents/05_projekty/01_programowanie/02_python/01_Power/PP-data_analysis_in_python/pandas_dask/acu'\n",
    "path_fft = 'C:/Users/JMosiezny/Documents/05_projekty/01_programowanie/02_python/01_Power/PP-data_analysis_in_python/pandas_dask/fft'\n",
    "print(\"Loaded directories...\")"
   ]
  },
  {
   "cell_type": "markdown",
   "metadata": {},
   "source": [
    "# Using Dask"
   ]
  },
  {
   "cell_type": "code",
   "execution_count": null,
   "metadata": {},
   "outputs": [],
   "source": [
    "print(\"Loading batch data...\")\n",
    "os.chdir(path_acu)\n",
    "batch_pressure = dd.read_csv('*', delimiter=\",\", decimal='.',usecols=[\"nodenumber\", \"sound-pressure\"])\n",
    "batch_pressure = batch_pressure.set_index(\"nodenumber\")\n",
    "print(\"Batch data done...\")"
   ]
  },
  {
   "cell_type": "code",
   "execution_count": null,
   "metadata": {
    "scrolled": true
   },
   "outputs": [],
   "source": [
    "#scipack fft\n",
    "dd_fft_scipy = batch_pressure.groupby('nodenumber')[\"sound-pressure\"].apply(lambda x: fft(x), meta=('node-fft-data', 'f8')).compute()\n",
    "dd_fft_scipy"
   ]
  },
  {
   "cell_type": "code",
   "execution_count": null,
   "metadata": {
    "scrolled": true
   },
   "outputs": [],
   "source": [
    "#numpy fftfft\n",
    "dd_fft_numpy = batch_pressure.groupby('nodenumber')[\"sound-pressure\"].apply(lambda x: np.fft.fft(x), meta=('node-fft-data', 'f8')).compute()\n",
    "dd_fft_numpy"
   ]
  },
  {
   "cell_type": "markdown",
   "metadata": {},
   "source": [
    "# Using Pandas"
   ]
  },
  {
   "cell_type": "code",
   "execution_count": null,
   "metadata": {},
   "outputs": [],
   "source": [
    "os.chdir(path_main)"
   ]
  },
  {
   "cell_type": "code",
   "execution_count": null,
   "metadata": {},
   "outputs": [],
   "source": [
    "print(\"Getting filelist...\")\n",
    "filelist = sorted(os.listdir(path_acu))"
   ]
  },
  {
   "cell_type": "code",
   "execution_count": null,
   "metadata": {
    "scrolled": true
   },
   "outputs": [],
   "source": [
    "print(\"Starting batch loop...\")\n",
    "os.chdir(path_acu)\n",
    "batch_data = pd.DataFrame()\n",
    "for file in filelist:\n",
    "    batch_data[file] = pd.read_csv(file).set_index('nodenumber')['sound-pressure']\n",
    "    print(str(file) + \" done...\")"
   ]
  },
  {
   "cell_type": "code",
   "execution_count": null,
   "metadata": {},
   "outputs": [],
   "source": [
    "#numpy fftfft\n",
    "pd_fft_numpy = batch_data.apply(lambda x: np.fft.fft(x), axis=1)\n",
    "pd_fft_numpy"
   ]
  },
  {
   "cell_type": "code",
   "execution_count": null,
   "metadata": {},
   "outputs": [],
   "source": [
    "#scipack fft\n",
    "pd_fft_scipy = batch_data.apply(lambda x: np.fft.fft(x), axis=1)\n",
    "pd_fft_scipy"
   ]
  }
 ],
 "metadata": {
  "kernelspec": {
   "display_name": "Python 3",
   "language": "python",
   "name": "python3"
  },
  "language_info": {
   "codemirror_mode": {
    "name": "ipython",
    "version": 3
   },
   "file_extension": ".py",
   "mimetype": "text/x-python",
   "name": "python",
   "nbconvert_exporter": "python",
   "pygments_lexer": "ipython3",
   "version": "3.6.6"
  }
 },
 "nbformat": 4,
 "nbformat_minor": 2
}
