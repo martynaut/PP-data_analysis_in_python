{
 "cells": [
  {
   "cell_type": "code",
   "execution_count": 42,
   "metadata": {
    "collapsed": true
   },
   "outputs": [],
   "source": [
    "import numpy as np\n",
    "import tracemalloc\n",
    "import os\n",
    "import linecache\n",
    "import time\n",
    "import pandas as pd"
   ]
  },
  {
   "cell_type": "code",
   "execution_count": 36,
   "metadata": {},
   "outputs": [],
   "source": [
    "# generate file with 100000 lines\n",
    "with open('data/new_long_file.csv', 'w+') as new_file:\n",
    "    for i in range(0,100000):\n",
    "        new_file.write(str(np.random.randint(0, 100)))\n",
    "        new_file.write('\\n')"
   ]
  },
  {
   "cell_type": "code",
   "execution_count": 37,
   "metadata": {
    "collapsed": true
   },
   "outputs": [],
   "source": [
    "def display_top(snapshot, key_type='lineno', limit=3):\n",
    "    snapshot = snapshot.filter_traces((\n",
    "        tracemalloc.Filter(False, \"<frozen importlib._bootstrap>\"),\n",
    "        tracemalloc.Filter(False, \"<unknown>\"),\n",
    "    ))\n",
    "    top_stats = snapshot.statistics(key_type)\n",
    "\n",
    "    print(\"Top %s lines\" % limit)\n",
    "    for index, stat in enumerate(top_stats[:limit], 1):\n",
    "        frame = stat.traceback[0]\n",
    "        # replace \"/path/to/module/file.py\" with \"module/file.py\"\n",
    "        filename = os.sep.join(frame.filename.split(os.sep)[-2:])\n",
    "        print(\"#%s: %s:%s: %.1f KiB\"\n",
    "              % (index, filename, frame.lineno, stat.size / 1024))\n",
    "        line = linecache.getline(frame.filename, frame.lineno).strip()\n",
    "        if line:\n",
    "            print('    %s' % line)\n",
    "\n",
    "    other = top_stats[limit:]\n",
    "    if other:\n",
    "        size = sum(stat.size for stat in other)\n",
    "        print(\"%s other: %.1f KiB\" % (len(other), size / 1024))\n",
    "    total = sum(stat.size for stat in top_stats)\n",
    "    print(\"Total allocated size: %.1f KiB\" % (total / 1024))"
   ]
  },
  {
   "cell_type": "code",
   "execution_count": 49,
   "metadata": {},
   "outputs": [
    {
     "name": "stdout",
     "output_type": "stream",
     "text": [
      "49.53308\n",
      "Top 3 lines\n",
      "#1: <frozen importlib._bootstrap_external>:487: 11156.3 KiB\n",
      "#2: core/internals.py:4821: 1562.7 KiB\n",
      "    stacked = np.empty(shape, dtype=dtype)\n",
      "#3: python3.6/linecache.py:137: 1059.4 KiB\n",
      "    lines = fp.readlines()\n",
      "11166 other: 8001.4 KiB\n",
      "Total allocated size: 21779.8 KiB\n",
      "finished in 2.464156 seconds\n"
     ]
    }
   ],
   "source": [
    "tracemalloc.start()\n",
    "start = time.clock()\n",
    "with open('data/new_long_file.csv', 'r') as f:\n",
    "    numbers = []\n",
    "    for line in f:\n",
    "        numbers.append(int(line.strip()))\n",
    "\n",
    "print(np.mean(numbers))\n",
    "\n",
    "snapshot = tracemalloc.take_snapshot()\n",
    "display_top(snapshot)\n",
    "stop = time.clock()\n",
    "\n",
    "print('finished in', stop-start, 'seconds')"
   ]
  },
  {
   "cell_type": "code",
   "execution_count": 46,
   "metadata": {},
   "outputs": [
    {
     "name": "stdout",
     "output_type": "stream",
     "text": [
      "0    49.53308\n",
      "dtype: float64\n",
      "Top 3 lines\n",
      "#1: <frozen importlib._bootstrap_external>:487: 10131.0 KiB\n",
      "#2: core/internals.py:4821: 1562.7 KiB\n",
      "    stacked = np.empty(shape, dtype=dtype)\n",
      "#3: python3.6/linecache.py:137: 611.4 KiB\n",
      "    lines = fp.readlines()\n",
      "9486 other: 5952.3 KiB\n",
      "Total allocated size: 18257.5 KiB\n",
      "finished in 1.8444669999999999 seconds\n"
     ]
    }
   ],
   "source": [
    "tracemalloc.start()\n",
    "start = time.clock()\n",
    "current_mean = pd.read_csv('data/new_long_file.csv', header=None).mean()\n",
    "print(current_mean)\n",
    "\n",
    "snapshot = tracemalloc.take_snapshot()\n",
    "display_top(snapshot)\n",
    "stop = time.clock()\n",
    "\n",
    "print('finished in', stop-start, 'seconds')"
   ]
  },
  {
   "cell_type": "code",
   "execution_count": 41,
   "metadata": {},
   "outputs": [
    {
     "name": "stdout",
     "output_type": "stream",
     "text": [
      "49.53307999999989\n",
      "Top 3 lines\n",
      "#1: python3.6/linecache.py:137: 32.5 KiB\n",
      "    lines = fp.readlines()\n",
      "#2: core/compilerop.py:99: 7.0 KiB\n",
      "    return compile(source, filename, symbol, self.flags | PyCF_ONLY_AST, 1)\n",
      "#3: python3.6/codeop.py:133: 3.0 KiB\n",
      "    codeob = compile(source, filename, symbol, self.flags, 1)\n",
      "105 other: 31.4 KiB\n",
      "Total allocated size: 73.9 KiB\n",
      "finished in 0.22972899999999985 seconds\n"
     ]
    }
   ],
   "source": [
    "tracemalloc.start()\n",
    "start = time.clock()\n",
    "with open('data/new_long_file.csv', 'r') as f:\n",
    "    counter = 0\n",
    "    current_mean = 0\n",
    "    for line in f:\n",
    "        current_mean = (current_mean*counter+int(line.strip()))/(counter+1)\n",
    "        counter += 1\n",
    "print(current_mean)\n",
    "\n",
    "snapshot = tracemalloc.take_snapshot()\n",
    "display_top(snapshot)\n",
    "stop = time.clock()\n",
    "\n",
    "print('finished in', stop-start, 'seconds')"
   ]
  },
  {
   "cell_type": "markdown",
   "metadata": {},
   "source": [
    "# Zadanie"
   ]
  },
  {
   "cell_type": "markdown",
   "metadata": {},
   "source": [
    "Zmierzcie czas i pamięć analogicznie trzech podejść do znalezienia wartości maksymalnej i minimalnej z pliku.\n",
    "* Napiszcie skrypty wykonujące trzy podejścia w osobnych plikach.\n",
    "* W czwartym pliku wywołajcie te trzy funkcje i zmierzchnie ich czas i zajętą pamięć."
   ]
  }
 ],
 "metadata": {
  "kernelspec": {
   "display_name": "Python 3",
   "language": "python",
   "name": "python3"
  },
  "language_info": {
   "codemirror_mode": {
    "name": "ipython",
    "version": 3
   },
   "file_extension": ".py",
   "mimetype": "text/x-python",
   "name": "python",
   "nbconvert_exporter": "python",
   "pygments_lexer": "ipython3",
   "version": "3.6.3"
  }
 },
 "nbformat": 4,
 "nbformat_minor": 2
}
