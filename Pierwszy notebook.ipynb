{
 "cells": [
  {
   "cell_type": "markdown",
   "metadata": {},
   "source": [
    "# Zajęcia 1 - Podstawy Pythona\n",
    "\n",
    "- Typy zmiennych\n",
    "    - Typy proste\n",
    "    - Listy\n",
    "    - Słowniki\n",
    "    - Tuple\n",
    "- Tworzenie i wywoływanie skryptu\n",
    "- Pętle/warunki\n",
    "- Funkcje\n",
    "- Praca z bibliotekami\n",
    "- Skrypt Pythona + bash\n"
   ]
  },
  {
   "cell_type": "markdown",
   "metadata": {},
   "source": [
    "## 0. Przygotowanie środowiska do pracy\n",
    "\n",
    "- Domyślnie praca na Linuxie\n",
    "- Zainstalowana wersja Pythona 3.6 (dystrybucja Anaconda zawiera większość przydatnych bibliotek do analizy danych)\n",
    "- Zainstalowany PyCharm wersja edukacyjna (Free)\n",
    "- Stworzone konto na githubie (dodanie do repozytorium)\n",
    "\n",
    "- Ściągnięcie repozytorium na githubie (ssh vs https)\n",
    "\n",
    "Konsola + przejście do odpowiedniego folderu\n",
    "- cd\n",
    "- mkdir\n",
    "\n",
    "Klonowanie repozytorium\n",
    "- bez klucza ssh (konieczne logowanie przy każdym pushu)\n",
    "\n",
    "``` \n",
    "git clone https://github.com/science-is-the-new-black/PP-data_analysis_in_python.git\n",
    "```\n",
    "\n",
    "- z kluczem ssh\n",
    "\n",
    "``` \n",
    "git clone git@github.com:science-is-the-new-black/PP-data_analysis_in_python.git\n",
    "```"
   ]
  },
  {
   "cell_type": "markdown",
   "metadata": {},
   "source": [
    "W przypadku braku gita\n",
    "\n",
    "```sudo apt-get update\n",
    "sudo apt-get upgrade\n",
    "sudo apt-get install git```"
   ]
  },
  {
   "cell_type": "markdown",
   "metadata": {},
   "source": [
    "### 0.1 Komentarze w Pythonie "
   ]
  },
  {
   "cell_type": "code",
   "execution_count": 64,
   "metadata": {},
   "outputs": [
    {
     "name": "stdout",
     "output_type": "stream",
     "text": [
      "Hello world\n"
     ]
    }
   ],
   "source": [
    "\"\"\"\n",
    "many lines comment\n",
    "\"\"\"\n",
    "# single line comment\n",
    "print('Hello world')"
   ]
  },
  {
   "cell_type": "markdown",
   "metadata": {},
   "source": [
    "## 1. Zmienne w Pythonie\n",
    "\n",
    "Nazywanie zmiennych\n",
    "- some_variable_name >> nazwa powinna coś znaczyć >> przyjęty język ang\n",
    "- raczej nie camel case: someVariableName\n",
    "\n",
    "Cechy zmiennych\n",
    "- nazwa / identyfikator\n",
    "- adres w pamięci\n",
    "- Wartość\n",
    "- Typ\n",
    "\n",
    "Funkcje zmiennych\n",
    "- Służy do przechowywania danych\n",
    "- Można nadpisać wartość zmiennej\n",
    "- Jak zamkniesz okno konsoli pythonowej, stworzone zmienne zostaną zapomniane\n"
   ]
  },
  {
   "cell_type": "markdown",
   "metadata": {},
   "source": [
    "Typy zmiennych w Pythonie\n",
    "\n",
    "- proste\n",
    "    - int\n",
    "    - float\n",
    "    - string\n",
    "    - bool\n",
    "    \n",
    "- złożone\n",
    "    - lista\n",
    "    - słownik\n",
    "    - tupla czyli krotka\n",
    "    \n",
    "Inne typy zmiennych dostępne są w przypadku importowanych bibliotek np. numpy array"
   ]
  },
  {
   "cell_type": "code",
   "execution_count": 1,
   "metadata": {
    "collapsed": true
   },
   "outputs": [],
   "source": [
    "zmienna_int = 1\n",
    "zmienna_str = 'ala ma kota'\n",
    "zmienna_float = 4.5\n",
    "zmienna_bool = True"
   ]
  },
  {
   "cell_type": "code",
   "execution_count": 2,
   "metadata": {},
   "outputs": [
    {
     "name": "stdout",
     "output_type": "stream",
     "text": [
      "<class 'int'>\n",
      "<class 'str'> <class 'float'>\n",
      "<class 'bool'>\n"
     ]
    }
   ],
   "source": [
    "# drukujemy wyniki do terminala z wykorzystaniem funkcji print()\n",
    "# spradzamy typ z wykorzystaniem funkcji type()\n",
    "print(type(zmienna_int))\n",
    "print(type(zmienna_str), type(zmienna_float))\n",
    "print(type(zmienna_bool))"
   ]
  },
  {
   "cell_type": "code",
   "execution_count": 60,
   "metadata": {},
   "outputs": [
    {
     "data": {
      "text/plain": [
       "0.30000000000000004"
      ]
     },
     "execution_count": 60,
     "metadata": {},
     "output_type": "execute_result"
    }
   ],
   "source": [
    "# problemy z dokładnością liczb zmiennoprzecinkowych\n",
    "# Floating-point numbers are represented in computer hardware as base 2 (binary) fractions.\n",
    "0.1+0.2"
   ]
  },
  {
   "cell_type": "code",
   "execution_count": 65,
   "metadata": {},
   "outputs": [
    {
     "name": "stdout",
     "output_type": "stream",
     "text": [
      "<class 'NoneType'>\n"
     ]
    }
   ],
   "source": [
    "# None to brak wartości\n",
    "a = None\n",
    "print(type(None))"
   ]
  },
  {
   "cell_type": "code",
   "execution_count": 29,
   "metadata": {
    "collapsed": true
   },
   "outputs": [],
   "source": [
    "zmienna_lista = [1,2,3,4]"
   ]
  },
  {
   "cell_type": "markdown",
   "metadata": {},
   "source": [
    "#### WAŻNE\n",
    "W Pythonie zaczynamy liczyć od 0\n",
    "- Np. lista[0] pokaże nam pierwszy element na liście\n",
    "- Np. lista[9] pokaże nam 10 element na liście\n"
   ]
  },
  {
   "cell_type": "code",
   "execution_count": 30,
   "metadata": {},
   "outputs": [
    {
     "data": {
      "text/plain": [
       "4"
      ]
     },
     "execution_count": 30,
     "metadata": {},
     "output_type": "execute_result"
    }
   ],
   "source": [
    "# funkcja len sprawdza długość listy\n",
    "len(zmienna_lista)"
   ]
  },
  {
   "cell_type": "code",
   "execution_count": 31,
   "metadata": {},
   "outputs": [
    {
     "name": "stdout",
     "output_type": "stream",
     "text": [
      "1 4\n"
     ]
    }
   ],
   "source": [
    "# odwoływanie się do list poprzez indeks\n",
    "print(zmienna_lista[0], zmienna_lista[3])"
   ]
  },
  {
   "cell_type": "code",
   "execution_count": 37,
   "metadata": {
    "collapsed": true
   },
   "outputs": [],
   "source": [
    "druga_lista = [1,2,3,4,5,6,7,8,9,10]"
   ]
  },
  {
   "cell_type": "code",
   "execution_count": 38,
   "metadata": {},
   "outputs": [
    {
     "data": {
      "text/plain": [
       "[2, 4]"
      ]
     },
     "execution_count": 38,
     "metadata": {},
     "output_type": "execute_result"
    }
   ],
   "source": [
    "# element 1 (drugi) do 4 (piątego) co drugi\n",
    "druga_lista[1:5:2]"
   ]
  },
  {
   "cell_type": "code",
   "execution_count": 52,
   "metadata": {},
   "outputs": [
    {
     "data": {
      "text/plain": [
       "[10, 9, 8, 7, 75, 5, 4, 3, 2, 1]"
      ]
     },
     "execution_count": 52,
     "metadata": {},
     "output_type": "execute_result"
    }
   ],
   "source": [
    "# odwracanie listy\n",
    "druga_lista[::-1]"
   ]
  },
  {
   "cell_type": "code",
   "execution_count": 39,
   "metadata": {},
   "outputs": [
    {
     "data": {
      "text/plain": [
       "[1, 2, 3, 4, 5, 75, 7, 8, 9, 10]"
      ]
     },
     "execution_count": 39,
     "metadata": {},
     "output_type": "execute_result"
    }
   ],
   "source": [
    "# nadpisywanie wartości w liście\n",
    "druga_lista[5] = 75\n",
    "druga_lista"
   ]
  },
  {
   "cell_type": "code",
   "execution_count": 32,
   "metadata": {
    "collapsed": true
   },
   "outputs": [],
   "source": [
    "# tworzenie list zagnieżdżonych\n",
    "lista_zagniezdzona = [0,2,3,[45,6,[9]]]\n"
   ]
  },
  {
   "cell_type": "code",
   "execution_count": 33,
   "metadata": {},
   "outputs": [
    {
     "data": {
      "text/plain": [
       "[2, 3]"
      ]
     },
     "execution_count": 33,
     "metadata": {},
     "output_type": "execute_result"
    }
   ],
   "source": [
    "# slice'y list (ostatni element nie wchodzi)\n",
    "lista_zagniezdzona[1:3]"
   ]
  },
  {
   "cell_type": "code",
   "execution_count": 35,
   "metadata": {},
   "outputs": [
    {
     "data": {
      "text/plain": [
       "[45, 6, [9]]"
      ]
     },
     "execution_count": 35,
     "metadata": {},
     "output_type": "execute_result"
    }
   ],
   "source": [
    "# ostatni element\n",
    "lista_zagniezdzona[-1]"
   ]
  },
  {
   "cell_type": "code",
   "execution_count": 36,
   "metadata": {},
   "outputs": [
    {
     "data": {
      "text/plain": [
       "[3, [45, 6, [9]]]"
      ]
     },
     "execution_count": 36,
     "metadata": {},
     "output_type": "execute_result"
    }
   ],
   "source": [
    "# dwa ostatnie elementy\n",
    "lista_zagniezdzona[-2:]"
   ]
  },
  {
   "cell_type": "code",
   "execution_count": 41,
   "metadata": {},
   "outputs": [
    {
     "data": {
      "text/plain": [
       "9"
      ]
     },
     "execution_count": 41,
     "metadata": {},
     "output_type": "execute_result"
    }
   ],
   "source": [
    "# co to zwróci?\n",
    "lista_zagniezdzona[3][2][0]"
   ]
  },
  {
   "cell_type": "code",
   "execution_count": 40,
   "metadata": {
    "collapsed": true
   },
   "outputs": [],
   "source": [
    "# lista złożona - w liście mogą być różnego typu dane\n",
    "lista_zlozona = ['a', 4, 7.8]"
   ]
  },
  {
   "cell_type": "code",
   "execution_count": 48,
   "metadata": {},
   "outputs": [],
   "source": [
    "moi_znajomi = ['Ania', 'Ola', 'Piotrek']"
   ]
  },
  {
   "cell_type": "code",
   "execution_count": 49,
   "metadata": {},
   "outputs": [
    {
     "data": {
      "text/plain": [
       "['Ania', 'Ola', 'Piotrek', 'Ludwik']"
      ]
     },
     "execution_count": 49,
     "metadata": {},
     "output_type": "execute_result"
    }
   ],
   "source": [
    "# dodawanie nowego elementu listy\n",
    "moi_znajomi.append('Ludwik')\n",
    "moi_znajomi"
   ]
  },
  {
   "cell_type": "code",
   "execution_count": 50,
   "metadata": {},
   "outputs": [
    {
     "data": {
      "text/plain": [
       "['Ania', 'Ola', 'Ludwik']"
      ]
     },
     "execution_count": 50,
     "metadata": {},
     "output_type": "execute_result"
    }
   ],
   "source": [
    "# usuwanie elementu o znanym indeksie\n",
    "del moi_znajomi[2]\n",
    "moi_znajomi"
   ]
  },
  {
   "cell_type": "code",
   "execution_count": 51,
   "metadata": {},
   "outputs": [
    {
     "data": {
      "text/plain": [
       "['Ania', 'Ola']"
      ]
     },
     "execution_count": 51,
     "metadata": {},
     "output_type": "execute_result"
    }
   ],
   "source": [
    "# usuwanie elementu o znanej wartości\n",
    "moi_znajomi.remove('Ludwik')\n",
    "moi_znajomi"
   ]
  },
  {
   "cell_type": "code",
   "execution_count": 53,
   "metadata": {},
   "outputs": [
    {
     "name": "stdout",
     "output_type": "stream",
     "text": [
      "Moj nowy znajomy nazywa się... A\n",
      "Moj nowy znajomy nazywa się... B\n"
     ]
    },
    {
     "data": {
      "text/plain": [
       "['Ania', 'Ola', 'A', 'B']"
      ]
     },
     "execution_count": 53,
     "metadata": {},
     "output_type": "execute_result"
    }
   ],
   "source": [
    "# dodawanie wielu wartości jednoczeście\n",
    "# funkcja input() pozwala na wczytywanie wartości z klawiatury\n",
    "nowy_znajomy_1 = input('Moj nowy znajomy nazywa się... ')\n",
    "nowy_znajomy_2 = input('Moj nowy znajomy nazywa się... ')\n",
    "\n",
    "moi_znajomi.extend([nowy_znajomy_1, nowy_znajomy_2])\n",
    "moi_znajomi"
   ]
  },
  {
   "cell_type": "code",
   "execution_count": 46,
   "metadata": {},
   "outputs": [
    {
     "data": {
      "text/plain": [
       "'a'"
      ]
     },
     "execution_count": 46,
     "metadata": {},
     "output_type": "execute_result"
    }
   ],
   "source": [
    "# na stringach można wykonywać podobne akcje jak na listach\n",
    "a = 'Martha'\n",
    "a[5]"
   ]
  },
  {
   "cell_type": "code",
   "execution_count": 47,
   "metadata": {},
   "outputs": [
    {
     "ename": "TypeError",
     "evalue": "'str' object does not support item assignment",
     "output_type": "error",
     "traceback": [
      "\u001b[0;31m---------------------------------------------------------------------------\u001b[0m",
      "\u001b[0;31mTypeError\u001b[0m                                 Traceback (most recent call last)",
      "\u001b[0;32m<ipython-input-47-aae0a86a7b89>\u001b[0m in \u001b[0;36m<module>\u001b[0;34m()\u001b[0m\n\u001b[1;32m      1\u001b[0m \u001b[0;31m# ale nie można nadpisywać w stringach\u001b[0m\u001b[0;34m\u001b[0m\u001b[0;34m\u001b[0m\u001b[0m\n\u001b[0;32m----> 2\u001b[0;31m \u001b[0ma\u001b[0m\u001b[0;34m[\u001b[0m\u001b[0;36m5\u001b[0m\u001b[0;34m]\u001b[0m \u001b[0;34m=\u001b[0m \u001b[0;34m'z'\u001b[0m\u001b[0;34m\u001b[0m\u001b[0m\n\u001b[0m\u001b[1;32m      3\u001b[0m \u001b[0;31m# zwróci błąd\u001b[0m\u001b[0;34m\u001b[0m\u001b[0;34m\u001b[0m\u001b[0m\n",
      "\u001b[0;31mTypeError\u001b[0m: 'str' object does not support item assignment"
     ]
    }
   ],
   "source": [
    "# ale nie można nadpisywać w stringach\n",
    "a[5] = 'z'\n",
    "# zwróci błąd"
   ]
  },
  {
   "cell_type": "code",
   "execution_count": 42,
   "metadata": {
    "collapsed": true
   },
   "outputs": [],
   "source": [
    "zmienna_tupla = (1,2,3,4)"
   ]
  },
  {
   "cell_type": "markdown",
   "metadata": {},
   "source": [
    "#### WAŻNE\n",
    "Tuple są niemodyfikowalne!\n",
    "\n",
    "- Nie można usunąć elementu tupli\n",
    "- Nie można dodać nowego elementu tupli\n",
    "- Nie można zmienić kolejności elementów tupli\n"
   ]
  },
  {
   "cell_type": "code",
   "execution_count": 43,
   "metadata": {},
   "outputs": [
    {
     "data": {
      "text/plain": [
       "3"
      ]
     },
     "execution_count": 43,
     "metadata": {},
     "output_type": "execute_result"
    }
   ],
   "source": [
    "# adresowanie po indeksie\n",
    "zmienna_tupla[2]"
   ]
  },
  {
   "cell_type": "code",
   "execution_count": 45,
   "metadata": {},
   "outputs": [
    {
     "data": {
      "text/plain": [
       "(3, 4)"
      ]
     },
     "execution_count": 45,
     "metadata": {},
     "output_type": "execute_result"
    }
   ],
   "source": [
    "# czy to ma sens?\n",
    "zmienna_tupla[2:6]"
   ]
  },
  {
   "cell_type": "code",
   "execution_count": 14,
   "metadata": {
    "collapsed": true
   },
   "outputs": [],
   "source": [
    "zmienna_slownik = {'jeden':5, 'siedem':7}"
   ]
  },
  {
   "cell_type": "markdown",
   "metadata": {},
   "source": [
    "#### WAŻNE\n",
    "- W słowniku klucze muszą być unikalne!\n",
    "- Wartości mogą być takie same dla kilku kluczy\n",
    "- W słownikach nie istnieje określona kolejność układania elementów.\n",
    "\n"
   ]
  },
  {
   "cell_type": "code",
   "execution_count": 16,
   "metadata": {},
   "outputs": [
    {
     "data": {
      "text/plain": [
       "dict_keys(['jeden', 'siedem'])"
      ]
     },
     "execution_count": 16,
     "metadata": {},
     "output_type": "execute_result"
    }
   ],
   "source": [
    "zmienna_slownik.keys()"
   ]
  },
  {
   "cell_type": "code",
   "execution_count": 15,
   "metadata": {},
   "outputs": [
    {
     "data": {
      "text/plain": [
       "dict_values([5, 7])"
      ]
     },
     "execution_count": 15,
     "metadata": {},
     "output_type": "execute_result"
    }
   ],
   "source": [
    "zmienna_slownik.values()"
   ]
  },
  {
   "cell_type": "code",
   "execution_count": 17,
   "metadata": {},
   "outputs": [
    {
     "name": "stdout",
     "output_type": "stream",
     "text": [
      "jeden 5\n",
      "siedem 7\n"
     ]
    }
   ],
   "source": [
    "for key, value in zmienna_slownik.items():\n",
    "    print(key, value)"
   ]
  },
  {
   "cell_type": "code",
   "execution_count": 20,
   "metadata": {},
   "outputs": [
    {
     "name": "stdout",
     "output_type": "stream",
     "text": [
      "True\n"
     ]
    }
   ],
   "source": [
    "# sprawdzenie czy klucz znajduje się w słowniku\n",
    "if 'jeden' in zmienna_slownik:\n",
    "    print('True')\n",
    "else:\n",
    "    print('False')"
   ]
  },
  {
   "cell_type": "code",
   "execution_count": 21,
   "metadata": {},
   "outputs": [
    {
     "name": "stdout",
     "output_type": "stream",
     "text": [
      "False\n"
     ]
    }
   ],
   "source": [
    "# nie działa dla wartości\n",
    "if 5 in zmienna_slownik:\n",
    "    print('True')\n",
    "else:\n",
    "    print('False')"
   ]
  },
  {
   "cell_type": "code",
   "execution_count": 22,
   "metadata": {
    "collapsed": true
   },
   "outputs": [],
   "source": [
    "# stworzenie słownika\n",
    "friends_pet = {'Zuzia': 'dog', 'Piotrek': 'cat', 'Bartek': 'fish', 'Ania': 'rat'}"
   ]
  },
  {
   "cell_type": "code",
   "execution_count": 23,
   "metadata": {},
   "outputs": [
    {
     "data": {
      "text/plain": [
       "'dog'"
      ]
     },
     "execution_count": 23,
     "metadata": {},
     "output_type": "execute_result"
    }
   ],
   "source": [
    "# sprawdzenie wartości dla klucza\n",
    "friends_pet['Zuzia']"
   ]
  },
  {
   "cell_type": "code",
   "execution_count": 24,
   "metadata": {},
   "outputs": [
    {
     "data": {
      "text/plain": [
       "{'Ania': 'rat', 'Bartek': 'fish', 'Piotrek': 'cat', 'Zuzia': 'yellow dog'}"
      ]
     },
     "execution_count": 24,
     "metadata": {},
     "output_type": "execute_result"
    }
   ],
   "source": [
    "# nadpisanie wartości dla klucza\n",
    "friends_pet['Zuzia'] = 'yellow dog'\n",
    "friends_pet"
   ]
  },
  {
   "cell_type": "code",
   "execution_count": 25,
   "metadata": {
    "collapsed": true
   },
   "outputs": [],
   "source": [
    "# dodanie pary klucz + wartość\n",
    "friends_pet['Antek'] = 'blue dog'"
   ]
  },
  {
   "cell_type": "code",
   "execution_count": 26,
   "metadata": {},
   "outputs": [
    {
     "data": {
      "text/plain": [
       "{'Ania': 'rat', 'Antek': 'blue dog', 'Bartek': 'fish', 'Zuzia': 'yellow dog'}"
      ]
     },
     "execution_count": 26,
     "metadata": {},
     "output_type": "execute_result"
    }
   ],
   "source": [
    "# usunięcie klucz (i wartości)\n",
    "del friends_pet['Piotrek']\n",
    "friends_pet"
   ]
  },
  {
   "cell_type": "code",
   "execution_count": 27,
   "metadata": {},
   "outputs": [
    {
     "data": {
      "text/plain": [
       "{}"
      ]
     },
     "execution_count": 27,
     "metadata": {},
     "output_type": "execute_result"
    }
   ],
   "source": [
    "# usunięcie wszystkich kluczy\n",
    "friends_pet.clear()\n",
    "friends_pet"
   ]
  },
  {
   "cell_type": "code",
   "execution_count": 28,
   "metadata": {},
   "outputs": [
    {
     "name": "stdout",
     "output_type": "stream",
     "text": [
      "fish\n"
     ]
    }
   ],
   "source": [
    "# słowniki można zagnieżdżać\n",
    "\n",
    "friends = {\n",
    "  'olenka666': { 'name': 'Ola', 'pet': 'dog' },\n",
    "  'martusia': { 'name': 'Marta', 'pet': 'cat' },\n",
    "  'pi122': { 'name': 'Piotrek', 'pet': 'fish' }\n",
    "}\n",
    "\n",
    "print(friends['pi122']['pet'])"
   ]
  },
  {
   "cell_type": "markdown",
   "metadata": {},
   "source": [
    "### Zadanie 1.1.\n",
    "\n",
    "Otwórz projekt w PyCharm i stwórz plik seriale.py\n",
    "\n",
    "W skrypcie stwórz zmienną o nazwie seriale.\n",
    "\n",
    "- Przypisz do niej listę zawierającą tytuły seriali (min. 8)\n",
    "- Wypisz pierwszy serial na liście\n",
    "- Wypisz 7 serial na liście \n",
    "- Wypisz ostatni serial na liście\n",
    "- Wypisz pierwsze cztery seriale na liście\n",
    "- Wypisz cztery ostatnie seriale na liście\n",
    "- Wypisz seriale na pozycjach od 4 do 7\n"
   ]
  },
  {
   "cell_type": "markdown",
   "metadata": {},
   "source": [
    "### Zadanie 1.2.\n",
    "\n",
    "Stwórz plik klienci.py\n",
    "\n",
    "- Stwórz zmienną liczba_klientow\n",
    "- Przypisz jej listę z pięcioma przykładowymi liczbami (liczba klientów danego dnia)\n",
    "- Stwórz zmienną wczoraj i przypisz jej ostatnią liczbę z listy liczba_klientow\n",
    "- Wykorzystując funkcję input() stwórz zmienna dzis i zapytaj użytkownika ile klientów było dzisiaj (zmienna dzis)\n",
    "- Wykorzystując funkcję append() dodaj liczbę ze zmiennej dzis do listy liczba_klientow\n"
   ]
  },
  {
   "cell_type": "markdown",
   "metadata": {},
   "source": [
    "## 2. Funkcje wbudowane"
   ]
  },
  {
   "cell_type": "markdown",
   "metadata": {},
   "source": [
    "### 2.1. Operacje matematyczne\n",
    "- Dodawanie  2 + 3\n",
    "- Odejmowanie  2 - 3\n",
    "- Mnożenie 2 * 3\n",
    "- Dzielenie 2 / 3\n",
    "- Reszta z dzielenia 2 % 3 (modulo)\n",
    "- Potęga  2 ** 3\n",
    "- Dzielenie bez reszty 3 // 2\n",
    "- Nawiasy 2 / (2 + 3)\n"
   ]
  },
  {
   "cell_type": "markdown",
   "metadata": {},
   "source": [
    "Kolejność wykonywania działań\n",
    "- Nawiasy\n",
    "- Potęgowanie\n",
    "- Mnożenie i dzielenie\n",
    "- Dodawanie i odejmowanie\n",
    "\n",
    "(jak w matematyce)\n"
   ]
  },
  {
   "cell_type": "code",
   "execution_count": null,
   "metadata": {},
   "outputs": [],
   "source": [
    "7/8"
   ]
  },
  {
   "cell_type": "code",
   "execution_count": null,
   "metadata": {},
   "outputs": [],
   "source": [
    "2-7"
   ]
  },
  {
   "cell_type": "code",
   "execution_count": null,
   "metadata": {},
   "outputs": [],
   "source": [
    "1+2"
   ]
  },
  {
   "cell_type": "code",
   "execution_count": null,
   "metadata": {},
   "outputs": [],
   "source": [
    "7**2"
   ]
  },
  {
   "cell_type": "code",
   "execution_count": null,
   "metadata": {},
   "outputs": [],
   "source": [
    "# można dodawać również stringi\n",
    "'start ' + 'coding'"
   ]
  },
  {
   "cell_type": "code",
   "execution_count": 57,
   "metadata": {},
   "outputs": [
    {
     "data": {
      "text/plain": [
       "'start start '"
      ]
     },
     "execution_count": 57,
     "metadata": {},
     "output_type": "execute_result"
    }
   ],
   "source": [
    "# a nawet mnożyć stringi przez liczby całkowite\n",
    "'start' * 2"
   ]
  },
  {
   "cell_type": "markdown",
   "metadata": {},
   "source": [
    "##### wersja skrócona działań arytmetycznych\n",
    "\n",
    "\n",
    "```\n",
    "x = 4\n",
    "x = x + 1\t\t->\tx += 1 \t\t# 5\n",
    "x = x - 1\t\t-> \tx -= 1 \t\t# 3\n",
    "x = x * 2\t\t->\tx *= 2 \t\t# 8\n",
    "x = x / 2\t\t->\tx /= 2 \t\t# 2\n",
    "x = x // 2.5\t->\tx //= 2.5 \t# 1.0\n",
    "x = x ** 2\t\t->\tx **= 2 \t# 16\n",
    "x = x % 3\t\t->\tx %= 3 \t\t# 1\n",
    "```"
   ]
  },
  {
   "cell_type": "code",
   "execution_count": 59,
   "metadata": {},
   "outputs": [
    {
     "name": "stdout",
     "output_type": "stream",
     "text": [
      "14.2 <class 'float'>\n"
     ]
    }
   ],
   "source": [
    "# mieszanie typów\n",
    "print(7.1*2, type(7.1*2))"
   ]
  },
  {
   "cell_type": "code",
   "execution_count": null,
   "metadata": {},
   "outputs": [],
   "source": [
    "1 + True"
   ]
  },
  {
   "cell_type": "code",
   "execution_count": null,
   "metadata": {},
   "outputs": [],
   "source": [
    "1 + False"
   ]
  },
  {
   "cell_type": "markdown",
   "metadata": {},
   "source": [
    "### 2.2 Inne funkcje wbudowane"
   ]
  },
  {
   "cell_type": "code",
   "execution_count": null,
   "metadata": {},
   "outputs": [],
   "source": [
    "# zmiana typu\n",
    "type(float('3.1415926'))"
   ]
  },
  {
   "cell_type": "code",
   "execution_count": null,
   "metadata": {},
   "outputs": [],
   "source": [
    "# każda zmienna może być przekonwertowana na zmienną logiczną (bool)\n",
    "print(bool(10), bool(0))\n",
    "print(bool('ala'), bool(''))\n",
    "print(bool([1,2,3]), bool([]))"
   ]
  },
  {
   "cell_type": "code",
   "execution_count": null,
   "metadata": {},
   "outputs": [],
   "source": [
    "# zaokrąglanie\n",
    "round(2.675, 2)"
   ]
  },
  {
   "cell_type": "code",
   "execution_count": null,
   "metadata": {},
   "outputs": [],
   "source": [
    "# sprawdzanie czy zmienna jest konkretnego typu\n",
    "isinstance(23, int)"
   ]
  },
  {
   "cell_type": "code",
   "execution_count": null,
   "metadata": {},
   "outputs": [],
   "source": [
    "isinstance('ala', str)"
   ]
  },
  {
   "cell_type": "code",
   "execution_count": 5,
   "metadata": {},
   "outputs": [
    {
     "data": {
      "text/plain": [
       "6"
      ]
     },
     "execution_count": 5,
     "metadata": {},
     "output_type": "execute_result"
    }
   ],
   "source": [
    "# suma elementów w liście\n",
    "sum([1,2,3])"
   ]
  },
  {
   "cell_type": "code",
   "execution_count": 6,
   "metadata": {},
   "outputs": [
    {
     "data": {
      "text/plain": [
       "1"
      ]
     },
     "execution_count": 6,
     "metadata": {},
     "output_type": "execute_result"
    }
   ],
   "source": [
    "# wartość min\n",
    "min([1,2,3])"
   ]
  },
  {
   "cell_type": "code",
   "execution_count": 7,
   "metadata": {},
   "outputs": [
    {
     "data": {
      "text/plain": [
       "3"
      ]
     },
     "execution_count": 7,
     "metadata": {},
     "output_type": "execute_result"
    }
   ],
   "source": [
    "# wartość max\n",
    "max([1,2,3])"
   ]
  },
  {
   "cell_type": "markdown",
   "metadata": {},
   "source": [
    "### 2.3. Funkcje stringów"
   ]
  },
  {
   "cell_type": "code",
   "execution_count": 13,
   "metadata": {},
   "outputs": [
    {
     "data": {
      "text/plain": [
       "'ALA MA KOTA'"
      ]
     },
     "execution_count": 13,
     "metadata": {},
     "output_type": "execute_result"
    }
   ],
   "source": [
    "'ala ma kota'.upper()"
   ]
  },
  {
   "cell_type": "code",
   "execution_count": 9,
   "metadata": {},
   "outputs": [
    {
     "data": {
      "text/plain": [
       "'ala ma kota'"
      ]
     },
     "execution_count": 9,
     "metadata": {},
     "output_type": "execute_result"
    }
   ],
   "source": [
    "'Ala ma kota'.lower()"
   ]
  },
  {
   "cell_type": "code",
   "execution_count": 10,
   "metadata": {},
   "outputs": [
    {
     "data": {
      "text/plain": [
       "'Ala Ma Kota'"
      ]
     },
     "execution_count": 10,
     "metadata": {},
     "output_type": "execute_result"
    }
   ],
   "source": [
    "'Ala ma kota'.title()"
   ]
  },
  {
   "cell_type": "code",
   "execution_count": 12,
   "metadata": {},
   "outputs": [
    {
     "data": {
      "text/plain": [
       "'Ala ma kota'"
      ]
     },
     "execution_count": 12,
     "metadata": {},
     "output_type": "execute_result"
    }
   ],
   "source": [
    "'ala ma kota'.capitalize()"
   ]
  },
  {
   "cell_type": "markdown",
   "metadata": {},
   "source": [
    "### 2.4. Pobieranie danych od użytkownika"
   ]
  },
  {
   "cell_type": "code",
   "execution_count": null,
   "metadata": {},
   "outputs": [],
   "source": [
    "imie_uzytkownika = input(\"Jak masz na imię? \") \n",
    "\n",
    "print(imie_uzytkownika)"
   ]
  },
  {
   "cell_type": "markdown",
   "metadata": {},
   "source": [
    "##  3. Porównywanie zmiennych ze sobą\n",
    "\n",
    "Porównywanie zmiennych ze sobą\n",
    "- ==   - równe (wartość)\n",
    "- !=   - różne\n",
    "- \\>    - większe  \n",
    "- \\>=   - większe lub równe\n",
    "- <    - mniejsze\n",
    "- <=   - mniejsze lub równe\n",
    "- not  - negacja\n",
    "- is   - jest tym samym (ten sam obiekt, to samo miejsce w pamięci)\n",
    "- in   - występuje w\n",
    "\n",
    "\n",
    "Przykłady\n",
    "\n",
    "- A > B   większe  \n",
    "- A is not  B\n",
    "- A is B\n",
    "- A in Tablica\n",
    "- A not in Tablica\n",
    "\n"
   ]
  },
  {
   "cell_type": "code",
   "execution_count": null,
   "metadata": {},
   "outputs": [],
   "source": [
    "# przyrównywanie alfanumeryczne - UNICODE\n",
    "\n",
    "'Zenon' < 'anna'"
   ]
  },
  {
   "cell_type": "code",
   "execution_count": null,
   "metadata": {},
   "outputs": [],
   "source": [
    "# sprawdzenie jaki numerek ma litera/znak\n",
    "print(ord('s'))\n",
    "\n",
    "# sprawdzenie, jaki znak koduje dana liczba koduje\n",
    "print(chr(115))"
   ]
  },
  {
   "cell_type": "code",
   "execution_count": null,
   "metadata": {},
   "outputs": [],
   "source": [
    "# Porównywanie list\n",
    "[1,2,3] == [1,2,3]"
   ]
  },
  {
   "cell_type": "code",
   "execution_count": null,
   "metadata": {},
   "outputs": [],
   "source": [
    "[1,2,3] == [1,3,2]"
   ]
  },
  {
   "cell_type": "code",
   "execution_count": null,
   "metadata": {},
   "outputs": [],
   "source": [
    "[1,2,3] < [1,3,2]"
   ]
  },
  {
   "cell_type": "code",
   "execution_count": null,
   "metadata": {
    "collapsed": true
   },
   "outputs": [],
   "source": [
    "# operator tożsamości is >> czy dwie zmienne wskazują na ten sam element w pamięci"
   ]
  },
  {
   "cell_type": "code",
   "execution_count": null,
   "metadata": {},
   "outputs": [],
   "source": [
    "a = 2 ** 100\n",
    "b = 2 ** 100\n",
    "a is b\n",
    "print(a,b,a is b)"
   ]
  },
  {
   "cell_type": "code",
   "execution_count": null,
   "metadata": {},
   "outputs": [],
   "source": [
    "a = 2 ** 100\n",
    "b = a\n",
    "print(a, b, a is b)"
   ]
  },
  {
   "cell_type": "code",
   "execution_count": null,
   "metadata": {},
   "outputs": [],
   "source": [
    "a = [1,2,3]\n",
    "b = a\n",
    "a.append(4)\n",
    "print(a, b, a is b)"
   ]
  },
  {
   "cell_type": "code",
   "execution_count": null,
   "metadata": {},
   "outputs": [],
   "source": [
    "# jeżeli chcemy, żeby b była kopią\n",
    "a = [1,2,3]\n",
    "b = a.copy()\n",
    "a.append(4)\n",
    "print(a, b, a is b)\n",
    "\n",
    "# lub\n",
    "\n",
    "a = [1,2,3]\n",
    "b = a[:]\n",
    "a.append(4)\n",
    "print(a, b, a is b)"
   ]
  },
  {
   "cell_type": "code",
   "execution_count": null,
   "metadata": {},
   "outputs": [],
   "source": [
    "a = [1,2,3]\n",
    "b = [1,2,3]\n",
    "a.append(4)\n",
    "print(a, b, a is b)"
   ]
  },
  {
   "cell_type": "code",
   "execution_count": null,
   "metadata": {},
   "outputs": [],
   "source": [
    "# uwaga: Python cache'uje małe wartości\n",
    "a = 2\n",
    "b = 2\n",
    "print(a, b, a is b)"
   ]
  },
  {
   "cell_type": "code",
   "execution_count": null,
   "metadata": {},
   "outputs": [],
   "source": [
    "# uwaga 2: None, True i False ma zawsze tą samą lokalizację w pamięci\n",
    "# porównujemy\n",
    "a is True # zamiast a == True"
   ]
  },
  {
   "cell_type": "markdown",
   "metadata": {},
   "source": [
    "## 4. Instrukcje warunkowe\n",
    "\n",
    "- if/elif/else\n",
    "\n",
    "```\n",
    "if warunek:\n",
    "    instrukcja()\n",
    "elif warunek2:\n",
    "    instrukcja2()\n",
    "else:\n",
    "    inna instrukcja\n",
    "```\n",
    "\n",
    "\n",
    "elif i else są nieobowiązkowe!"
   ]
  },
  {
   "cell_type": "code",
   "execution_count": 68,
   "metadata": {},
   "outputs": [
    {
     "name": "stdout",
     "output_type": "stream",
     "text": [
      "To jakieś nowe imię\n"
     ]
    }
   ],
   "source": [
    "a = 'Ania'\n",
    "\n",
    "if a == 'Basia':\n",
    "    print('Na imię jej Basia')\n",
    "elif a == 'Zosia':\n",
    "    print('Na imię jej Zosia')\n",
    "else:\n",
    "    print('To jakieś nowe imię')"
   ]
  },
  {
   "cell_type": "code",
   "execution_count": null,
   "metadata": {},
   "outputs": [],
   "source": [
    "# łączymy warunki and or not\n",
    "\n",
    "a = 40\n",
    "\n",
    "if a % 2 == 0 and a < 20:\n",
    "    print('divides by 2')\n",
    "elif a % 3 == 0 or a % 5 == 0:\n",
    "    print ('divides by 3 or 5')\n",
    "elif not a < 0:\n",
    "    print('bigger than 0')\n",
    "else:\n",
    "    print('else')"
   ]
  },
  {
   "cell_type": "markdown",
   "metadata": {},
   "source": [
    "uwaga: operatory działają od lewej do prawej, czyli powinniśmy dawać \n",
    "- łatwiejsze obliczeniowo warunki po lewej\n",
    "- szybciej wykluczające warunki po lewej\n",
    "\n",
    "uwaga 2: and jest silniejsze niż or"
   ]
  },
  {
   "cell_type": "code",
   "execution_count": null,
   "metadata": {},
   "outputs": [],
   "source": [
    "# jednolinijkowce\n",
    "\n",
    "wiek = int(input('Podaj swój wiek: '))\n",
    "\n",
    "kategoria_wiekowa = 'dziecko' if wiek < 18 else 'dorosły'\n",
    "\n",
    "print(kategoria_wiekowa)"
   ]
  },
  {
   "cell_type": "markdown",
   "metadata": {},
   "source": [
    "### Zadanie 4.1. - update zadania 1.2\n",
    "\n",
    "Otwórz plik klienci.py\n",
    "\n",
    "- Wykorzystując instrukcje warunkowe (if..else...) sprawdź czy liczba klientów jest większa czy mniejsza niż wczoraj i wyświetl tę informację użytkownikowi"
   ]
  },
  {
   "cell_type": "markdown",
   "metadata": {},
   "source": [
    "### Zadanie 4.2.\n",
    "\n",
    "Napisz program, który zapyta użytkownika o jego rok urodzenia, a następnie wypisze je na ekranie.\n",
    "\n",
    "- Jeżeli rok urodzenia > 2000 niech wypisze rok urodzenia\n",
    "- W przeciwnym przypadku niech wypisze “Dobrze, ze jestes pelnoletni”\n"
   ]
  },
  {
   "cell_type": "markdown",
   "metadata": {},
   "source": [
    "### Zadanie 4.3.\n",
    "\n",
    "Pani Wiesia ma mnóstwo kwiatów do przygotowania z okazji zakończenia szkoły. W celu usprawnienia tego procesu pani Wiesia postanowiła pogrupować bukiety w zależności od koloru i liczby kwiatów w bukiecie.\n",
    "\n",
    "Zaimplementuj program który:\n",
    "- Wczyta od użytkownika liczbę kwiatów\n",
    "- Wczyta od użytkownika kolor kwatów\n",
    "- Sprawdzi czy liczba kwiatów jest nieparzysta i poinformuje o tym użytkownika\n",
    "- Wypisze liczbę kwiatów i kolor \n",
    "- Wypisze komunikat, jeżeli kwiatów >50 i <= 100, że bukiet będzie drogi\n",
    "- Wypisze komunikat, jeżeli kwiatów >100, że bukiet będzie za ciężki\n"
   ]
  },
  {
   "cell_type": "markdown",
   "metadata": {},
   "source": [
    "## 5. Pętle\n",
    "\n",
    "- for\n",
    "- while"
   ]
  },
  {
   "cell_type": "code",
   "execution_count": null,
   "metadata": {},
   "outputs": [],
   "source": [
    "# for - wykonuje się podaną liczbę kroków\n",
    "liczby = [2,3,5,7]\n",
    "for liczba in liczby:\n",
    "    print(liczba)"
   ]
  },
  {
   "cell_type": "code",
   "execution_count": null,
   "metadata": {},
   "outputs": [],
   "source": [
    "# while - wykonuje się zawsze kiedy warunek będzie prawdziwy\n",
    "licznik = 0\n",
    "while licznik < 5:\n",
    "    print(licznik)\n",
    "    licznik += 1"
   ]
  },
  {
   "cell_type": "code",
   "execution_count": null,
   "metadata": {},
   "outputs": [],
   "source": [
    "for num in range(10,20): #od 10 do 19\n",
    "    # range(start, kiedy_stop, krok)\n",
    "    print (num)"
   ]
  },
  {
   "cell_type": "code",
   "execution_count": null,
   "metadata": {},
   "outputs": [],
   "source": [
    "for letter in 'Python': \n",
    "    print ('Bieżąca litera: ', letter)"
   ]
  },
  {
   "cell_type": "markdown",
   "metadata": {},
   "source": [
    "### Zadanie 5.1\n",
    "\n",
    "Wyświetl wszystkie liczby parzyste z przedziału 0-26\n",
    "\n",
    "### Zadanie 5.2\n",
    "\n",
    "Wypisz powitanie dla każdej osoby z listy (\"Cześć <<imie>>!\")\n",
    "\n",
    "osoby = [\"Monika\", \"Wojciech\", \"Jan\", \"Piotr\", \"Agata\"]\n",
    "\n",
    "### Zadanie 5.3\n",
    "\n",
    "Sprawdź, który znak w ciągu \"Ala ma 4 koty\" jest liczbą. \n"
   ]
  },
  {
   "cell_type": "code",
   "execution_count": null,
   "metadata": {},
   "outputs": [],
   "source": [
    "# zagrożenie 1: pętla nieskończona\n",
    "\n",
    "x = 1\n",
    "while True:\n",
    "    print (\"To infinity and beyond! We're on {} now!\".format(x))\n",
    "    x += 1"
   ]
  },
  {
   "cell_type": "code",
   "execution_count": 69,
   "metadata": {},
   "outputs": [
    {
     "name": "stdout",
     "output_type": "stream",
     "text": [
      "Windows 32-bit\n",
      "Windows 64-bit\n",
      "-----------\n",
      "Ubuntu 32-bit\n",
      "Ubuntu 64-bit\n",
      "-----------\n"
     ]
    }
   ],
   "source": [
    "# zagnieżdżenie pętli\n",
    "\n",
    "system = [\"Windows\", \"Ubuntu\"]\n",
    "arch = [\"32-bit\", \"64-bit\"]\n",
    "for i in system:\n",
    "    for j in arch:\n",
    "        print(i + \" \" + j)\n",
    "    print(\"-----------\")"
   ]
  },
  {
   "cell_type": "code",
   "execution_count": null,
   "metadata": {},
   "outputs": [],
   "source": [
    "# ważne: elementy w pętli for są kopiami sekwencji\n",
    "\n",
    "prime_numbers = [2, 3, 5, 7, 11, 13, 17]\n",
    "\n",
    "for prime_number in prime_numbers:\n",
    "    prime_number **= 2\n",
    "\n",
    "print(prime_numbers)"
   ]
  },
  {
   "cell_type": "code",
   "execution_count": null,
   "metadata": {},
   "outputs": [],
   "source": [
    "prime_numbers = [2, 3, 5, 7, 11, 13, 17]\n",
    "\n",
    "for index, prime_number in enumerate(prime_numbers):\n",
    "    prime_numbers[index] = prime_number ** 2\n",
    "\n",
    "print(prime_numbers)"
   ]
  },
  {
   "cell_type": "code",
   "execution_count": null,
   "metadata": {},
   "outputs": [],
   "source": [
    "prime_numbers = [2, 3, 5, 7, 11, 13, 17]\n",
    "\n",
    "for prime_number in range(len(prime_numbers)):\n",
    "    prime_numbers[prime_number] **= 2\n",
    "\n",
    "print(prime_numbers)"
   ]
  },
  {
   "cell_type": "markdown",
   "metadata": {},
   "source": [
    "#### Przerywanie pętli"
   ]
  },
  {
   "cell_type": "markdown",
   "metadata": {},
   "source": [
    "break - przerywa pętlę\n",
    "\n",
    "continue - wychodzi z aktualnej iteracji pętli i przechodzi do wykonania kolejnej iteracji"
   ]
  },
  {
   "cell_type": "markdown",
   "metadata": {},
   "source": [
    "## 6. Definiowanie funkcji\n",
    "\n",
    "\n",
    "Funkcja jest to wydzielona część programu która przetwarza argumenty i opcjonalnie zwraca wartość\n",
    "\n",
    "Funkcja może być używana do wielokrotnego użycia kodu - zamiast kopiować kod wielokrotnie, tworzymy funkcję i “odpalamy” ją w różnych miejscach\n",
    "\n",
    "Funkcja może przyjmować argumenty (ale nie musi) i zwracać wartość (też nie musi)\n",
    "\n",
    "Funkcje są  używane do:\n",
    "- Lepszej organizacji kodu w programie\n",
    "- Wielokrotnego użycia kodu\n",
    "- Testowania swojego kodu\n"
   ]
  },
  {
   "cell_type": "code",
   "execution_count": null,
   "metadata": {
    "collapsed": true
   },
   "outputs": [],
   "source": [
    "def moja_funkcja(a, b):\n",
    "    return a+b"
   ]
  },
  {
   "cell_type": "code",
   "execution_count": null,
   "metadata": {},
   "outputs": [],
   "source": [
    "moja_funkcja(2,4)"
   ]
  },
  {
   "cell_type": "code",
   "execution_count": null,
   "metadata": {
    "collapsed": true
   },
   "outputs": [],
   "source": [
    "moja_funkcja(6,7)"
   ]
  },
  {
   "cell_type": "code",
   "execution_count": 71,
   "metadata": {},
   "outputs": [],
   "source": [
    "def dzielenie(dzielna=5, dzielnik=2):\n",
    "    return dzielna/dzielnik"
   ]
  },
  {
   "cell_type": "code",
   "execution_count": 72,
   "metadata": {},
   "outputs": [
    {
     "data": {
      "text/plain": [
       "3.5"
      ]
     },
     "execution_count": 72,
     "metadata": {},
     "output_type": "execute_result"
    }
   ],
   "source": [
    "dzielenie(dzielna=7, dzielnik=2)"
   ]
  },
  {
   "cell_type": "code",
   "execution_count": 73,
   "metadata": {},
   "outputs": [
    {
     "data": {
      "text/plain": [
       "3.5"
      ]
     },
     "execution_count": 73,
     "metadata": {},
     "output_type": "execute_result"
    }
   ],
   "source": [
    "dzielenie(dzielnik=2, dzielna=7)"
   ]
  },
  {
   "cell_type": "code",
   "execution_count": 74,
   "metadata": {},
   "outputs": [
    {
     "data": {
      "text/plain": [
       "3.5"
      ]
     },
     "execution_count": 74,
     "metadata": {},
     "output_type": "execute_result"
    }
   ],
   "source": [
    "dzielenie(7,2)"
   ]
  },
  {
   "cell_type": "code",
   "execution_count": 75,
   "metadata": {},
   "outputs": [
    {
     "data": {
      "text/plain": [
       "0.2857142857142857"
      ]
     },
     "execution_count": 75,
     "metadata": {},
     "output_type": "execute_result"
    }
   ],
   "source": [
    "dzielenie(2, 7)"
   ]
  },
  {
   "cell_type": "code",
   "execution_count": 77,
   "metadata": {},
   "outputs": [],
   "source": [
    "def bez_zwrotu(a,b):\n",
    "    c = a+b"
   ]
  },
  {
   "cell_type": "code",
   "execution_count": 78,
   "metadata": {
    "collapsed": true
   },
   "outputs": [],
   "source": [
    "bez_zwrotu(5,6)"
   ]
  },
  {
   "cell_type": "markdown",
   "metadata": {},
   "source": [
    "#### args and kwargs"
   ]
  },
  {
   "cell_type": "code",
   "execution_count": 83,
   "metadata": {
    "collapsed": true
   },
   "outputs": [],
   "source": [
    "def moja_funkcja(a, b, *args, c=5, **kwargs):\n",
    "    print(a)\n",
    "    print(b)\n",
    "    print(args)\n",
    "    print(c)\n",
    "    print(kwargs)\n",
    "    return a+b"
   ]
  },
  {
   "cell_type": "code",
   "execution_count": 84,
   "metadata": {},
   "outputs": [
    {
     "name": "stdout",
     "output_type": "stream",
     "text": [
      "2\n",
      "4\n",
      "(6,)\n",
      "5\n",
      "{'z': 6}\n"
     ]
    },
    {
     "data": {
      "text/plain": [
       "6"
      ]
     },
     "execution_count": 84,
     "metadata": {},
     "output_type": "execute_result"
    }
   ],
   "source": [
    "moja_funkcja(2,4,6, z=6)"
   ]
  },
  {
   "cell_type": "markdown",
   "metadata": {},
   "source": [
    "the single-asterisk form of *args can be used as a parameter to send a non-keyworded variable-length argument list to functions"
   ]
  },
  {
   "cell_type": "code",
   "execution_count": 85,
   "metadata": {},
   "outputs": [
    {
     "name": "stdout",
     "output_type": "stream",
     "text": [
      "20\n"
     ]
    }
   ],
   "source": [
    "def multiply(x, y):\n",
    "    print (x * y)\n",
    "\n",
    "multiply(5, 4)"
   ]
  },
  {
   "cell_type": "code",
   "execution_count": 86,
   "metadata": {},
   "outputs": [
    {
     "ename": "TypeError",
     "evalue": "multiply() takes 2 positional arguments but 3 were given",
     "output_type": "error",
     "traceback": [
      "\u001b[0;31m---------------------------------------------------------------------------\u001b[0m",
      "\u001b[0;31mTypeError\u001b[0m                                 Traceback (most recent call last)",
      "\u001b[0;32m<ipython-input-86-2f9fd54abb5d>\u001b[0m in \u001b[0;36m<module>\u001b[0;34m()\u001b[0m\n\u001b[1;32m      2\u001b[0m     \u001b[0mprint\u001b[0m \u001b[0;34m(\u001b[0m\u001b[0mx\u001b[0m \u001b[0;34m*\u001b[0m \u001b[0my\u001b[0m\u001b[0;34m)\u001b[0m\u001b[0;34m\u001b[0m\u001b[0m\n\u001b[1;32m      3\u001b[0m \u001b[0;34m\u001b[0m\u001b[0m\n\u001b[0;32m----> 4\u001b[0;31m \u001b[0mmultiply\u001b[0m\u001b[0;34m(\u001b[0m\u001b[0;36m5\u001b[0m\u001b[0;34m,\u001b[0m \u001b[0;36m4\u001b[0m\u001b[0;34m,\u001b[0m \u001b[0;36m3\u001b[0m\u001b[0;34m)\u001b[0m\u001b[0;34m\u001b[0m\u001b[0m\n\u001b[0m",
      "\u001b[0;31mTypeError\u001b[0m: multiply() takes 2 positional arguments but 3 were given"
     ]
    }
   ],
   "source": [
    "def multiply(x, y):\n",
    "    print (x * y)\n",
    "\n",
    "multiply(5, 4, 3)"
   ]
  },
  {
   "cell_type": "code",
   "execution_count": 87,
   "metadata": {},
   "outputs": [
    {
     "name": "stdout",
     "output_type": "stream",
     "text": [
      "20\n",
      "90\n",
      "24\n",
      "900\n"
     ]
    }
   ],
   "source": [
    "def multiply(*args):\n",
    "    z = 1\n",
    "    for num in args:\n",
    "        z *= num\n",
    "    print(z)\n",
    "\n",
    "multiply(4, 5)\n",
    "multiply(10, 9)\n",
    "multiply(2, 3, 4)\n",
    "multiply(3, 5, 10, 6)"
   ]
  },
  {
   "cell_type": "markdown",
   "metadata": {},
   "source": [
    "double asterisk form of **kwargs is used to pass a keyworded, variable-length argument dictionary to a function"
   ]
  },
  {
   "cell_type": "code",
   "execution_count": 88,
   "metadata": {},
   "outputs": [
    {
     "data": {
      "text/plain": [
       "5.0"
      ]
     },
     "execution_count": 88,
     "metadata": {},
     "output_type": "execute_result"
    }
   ],
   "source": [
    "def dzielenie(dzielna=5, dzielnik=2):\n",
    "    return dzielna/dzielnik\n",
    "\n",
    "dzielenie(dzielna=10, dzielnik=2)"
   ]
  },
  {
   "cell_type": "code",
   "execution_count": 93,
   "metadata": {},
   "outputs": [
    {
     "name": "stdout",
     "output_type": "stream",
     "text": [
      "0.3\n",
      "0.3333333333333333\n"
     ]
    }
   ],
   "source": [
    "def dzielenie(dzielna=5, dzielnik=2, **kwargs):\n",
    "    if 'precyzja' in kwargs:\n",
    "        return round(dzielna/dzielnik, kwargs['precyzja'])\n",
    "    else:\n",
    "        return dzielna/dzielnik\n",
    "print(dzielenie(dzielna=1, dzielnik=3, precyzja=1))\n",
    "print(dzielenie(dzielna=1, dzielnik=3))"
   ]
  },
  {
   "cell_type": "markdown",
   "metadata": {},
   "source": [
    "## 7. Importowanie modułów"
   ]
  },
  {
   "cell_type": "markdown",
   "metadata": {},
   "source": [
    "Moduły ułatwiają życie. Dzięki nim nie musimy implementować rzeczy od zera."
   ]
  },
  {
   "cell_type": "code",
   "execution_count": null,
   "metadata": {
    "collapsed": true
   },
   "outputs": [],
   "source": [
    "# importowanie całej biblioteki\n",
    "import numpy"
   ]
  },
  {
   "cell_type": "code",
   "execution_count": null,
   "metadata": {
    "collapsed": true
   },
   "outputs": [],
   "source": [
    "# importowanie ze skrótem\n",
    "import numpy as np"
   ]
  },
  {
   "cell_type": "code",
   "execution_count": null,
   "metadata": {
    "collapsed": true
   },
   "outputs": [],
   "source": [
    "# importowanie konkretnej funckji/klasy/submodułu\n",
    "from numpy import arange"
   ]
  },
  {
   "cell_type": "code",
   "execution_count": null,
   "metadata": {},
   "outputs": [],
   "source": [
    "# reload modułu Python >3.4\n",
    "\n",
    "import importlib\n",
    "importlib.reload(numpy)"
   ]
  },
  {
   "cell_type": "code",
   "execution_count": null,
   "metadata": {
    "collapsed": true
   },
   "outputs": [],
   "source": [
    "# importowanie funkcji z innego pliku (w tej samej lokalizacji)\n",
    "\n",
    "from nazwa_pliku_w_pythonie import nazwa_funkcji"
   ]
  },
  {
   "cell_type": "code",
   "execution_count": null,
   "metadata": {
    "collapsed": true
   },
   "outputs": [],
   "source": [
    "# importowanie funkcji z innego pliku z innej lokalizacji\n",
    "# (uwaga na nazywanie plików i funkcji, żeby nie nadpisać funkcji wbudowanych)\n",
    "\n",
    "import sys\n",
    "sys.path.insert(0, '..')"
   ]
  },
  {
   "cell_type": "markdown",
   "metadata": {},
   "source": [
    "### Zadanie 7.1\n",
    "\n"
   ]
  },
  {
   "cell_type": "markdown",
   "metadata": {},
   "source": [
    "## 8. Możliwości odpalania skryptu Pythona\n",
    "\n",
    "- Jupyter notebook\n",
    "- PyCharm\n",
    "- konsola z definicją pythona\n",
    "\n",
    "```\n",
    "python file.py\n",
    "```\n",
    "\n",
    "- konsola z wywołaniem nazwy pliku\n",
    "\n",
    "```\n",
    "./file.py\n",
    "```\n"
   ]
  },
  {
   "cell_type": "markdown",
   "metadata": {
    "collapsed": true
   },
   "source": [
    "\\# Windows: python C:\\Users\\Janusz\\Desktop\\skrypt.py\n",
    "\n",
    "\\# Linux:   python /home/janusz/skrypty/program.py\n"
   ]
  },
  {
   "cell_type": "markdown",
   "metadata": {},
   "source": [
    "### Zadanie 8.1."
   ]
  },
  {
   "cell_type": "markdown",
   "metadata": {},
   "source": [
    "- Stwórz plik tekstowy z rozszerzeniem .py\n",
    "- Otwórz go w edytorze tekstu \n",
    "- Wpisz\n",
    "\n",
    "```\n",
    "print (\"hello world\")\n",
    "input(\"Nacisnij ANY KEY by zakonczyc\")\n",
    "```\n",
    "\n",
    "\n",
    "- Linux / Mac\n",
    "    - Uruchamiamy terminal\n",
    "    - Wpisujemy python3 NAZWA_SCIEZKA_DO_PLIKU\n",
    "    - Enter!\n"
   ]
  },
  {
   "cell_type": "markdown",
   "metadata": {},
   "source": [
    "### Zadanie 8.2"
   ]
  },
  {
   "cell_type": "markdown",
   "metadata": {},
   "source": [
    "Napisz program wykorzystując definicję funkcji, który obliczy obwód prostokąta, pole i pole pomniejszone o 10%.\n",
    "\n",
    "- Dane wejściowe:\n",
    "    - długość boku 1\n",
    "    - długość boku 2\n",
    "- Dane wyjściowe:\n",
    "    - obwód prostokąta\n",
    "    - pole prostokąta\n",
    "    - jeżeli jest kwadratem napisz \"Jest kwadratem\"\n",
    "\n",
    "Wszystkie wyniki powinny być wypisane na ekranie\n"
   ]
  },
  {
   "cell_type": "markdown",
   "metadata": {},
   "source": [
    "## 9. Łączenie basha z Pythonem"
   ]
  },
  {
   "cell_type": "markdown",
   "metadata": {},
   "source": [
    "1. Wywoływanie skryptu Pythona w skrypcie basha\n",
    "\n",
    "```\n",
    "cat file.txt | python order.py | sort -rn\n",
    "```"
   ]
  },
  {
   "cell_type": "markdown",
   "metadata": {},
   "source": [
    "order.py\n",
    "\n",
    "\n",
    "```\n",
    "#!/usr/bin/env python\n",
    "import sys #importing system modules to work with directory files\n",
    "\n",
    "if __name__ == “__main__”:\n",
    "\n",
    "# Starting with an empty dictionary here. Which is termed as the order\n",
    "# All keys in this dictionary appear as a name and the specified values for them\n",
    "# will be the amount of times that specific name will appear.order = {}\n",
    "# sys.stdin is an object used for files. All those functions that’s being applied to\n",
    "# a file object can also be used for sys.stdin.\n",
    "\n",
    "    for order in sys.stdin.readlines():\n",
    "\n",
    "        order = order.strip()\n",
    "\n",
    "        if order in orders:\n",
    "\n",
    "            orders[order] += 1\n",
    "\n",
    "        else:\n",
    "\n",
    "            orders[order] = 1\n",
    "\n",
    "    for order, count in orders.iteritems():\n",
    "\n",
    "        sys.stdout.write(“%d\\t%s\\n” % (count, order))\n",
    "        \n",
    "```"
   ]
  },
  {
   "cell_type": "markdown",
   "metadata": {},
   "source": [
    "2. Skrypt Basha w Pythonie\n",
    "\n",
    "\n",
    "```\n",
    "\n",
    "from os import *\n",
    "os.system ( ‘sudo apt-get update’ )\n",
    "\n",
    "```"
   ]
  },
  {
   "cell_type": "markdown",
   "metadata": {},
   "source": [
    "## 10. Zadania"
   ]
  },
  {
   "cell_type": "markdown",
   "metadata": {},
   "source": [
    "### Zadanie 10.1\n",
    "\n",
    "- Program prosi użytkownika o wpisanie  w konsoli dowolnego zdania. \n",
    "- Naszym zadaniem jest wyświetlenie wszystkich  znaków interpunkcyjnych występujących w tym zdaniu. \n",
    "- dodatkowo wypisz ile razy każdy znak interpunkcyjny występuje we wpisanym zdaniu"
   ]
  },
  {
   "cell_type": "markdown",
   "metadata": {},
   "source": [
    "### Zadanie 10.2\n",
    "\n",
    "- Rysujemy choinkę złożoną ze spacji i gwiazdek. \n",
    "- Pamiętamy, że należy najpierw zapytać o wysokość choinki. \n",
    "\n",
    "\n",
    "```\n",
    "   *\n",
    "  ***\n",
    " *****\n",
    "*******\n",
    "```\n"
   ]
  },
  {
   "cell_type": "markdown",
   "metadata": {},
   "source": [
    "### Zadanie 10.3\n",
    "\n",
    "- Stworz krotkę week_days = ('poniedziałek', 'wtorek', 'środa', 'czwartek', 'piątek', 'sobota', 'niedziela')\n",
    "- Zapytaj użytkownika jaki dziś dzień tygodnia\n",
    "- Wyświetl użytkownikowi informację ile dni zostało do weekendu w formie zdania, np.: “Do weekendu zostały 2 dni!”\n",
    "- Jeśli już jest weekend poinformuj o tym użytkownika np. “Yeah! Już weekend!”\n",
    "    - Załóżmy że weekend to piątek, sobota lub niedziela\n"
   ]
  }
 ],
 "metadata": {
  "kernelspec": {
   "display_name": "Python 3",
   "language": "python",
   "name": "python3"
  },
  "language_info": {
   "codemirror_mode": {
    "name": "ipython",
    "version": 3
   },
   "file_extension": ".py",
   "mimetype": "text/x-python",
   "name": "python",
   "nbconvert_exporter": "python",
   "pygments_lexer": "ipython3",
   "version": "3.6.3"
  }
 },
 "nbformat": 4,
 "nbformat_minor": 2
}
