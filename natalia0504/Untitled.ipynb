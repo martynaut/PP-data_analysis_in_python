{
 "cells": [
  {
   "cell_type": "code",
   "execution_count": null,
   "metadata": {
    "collapsed": true
   },
   "outputs": [],
   "source": [
    "%matplotlib inline\n",
    "from PIL import Image\n",
    "import matplotlib.pylab as plt\n",
    "import numpy as np\n",
    "from matplotlib.pyplot import imshow"
   ]
  },
  {
   "cell_type": "code",
   "execution_count": null,
   "metadata": {
    "collapsed": true
   },
   "outputs": [],
   "source": [
    "im = Image.open(\"velocity.bmp\")\n",
    "width, height = im.size\n",
    "print(width, height)\n",
    "im_data = np.array(im.getdata()).reshape(height, width)\n",
    "imshow(im)\n",
    "\n",
    "x = []\n",
    "y = []\n",
    "for i in np.arange(height):\n",
    "    for j in np.arange(width):\n",
    "        if im_data[i][j] == 0:\n",
    "            x.append(j)\n",
    "            y.append(i)\n",
    "\n",
    "df = pd.DataFrame({'x':x, 'y':y}).sort_values('x')\n",
    "plt.plot(df['x'], df['y'], linestyle='-', alpha=0.5)\n",
    "\n",
    "plt.show()"
   ]
  }
 ],
 "metadata": {
  "anaconda-cloud": {},
  "kernelspec": {
   "display_name": "Python [conda root]",
   "language": "python",
   "name": "conda-root-py"
  },
  "language_info": {
   "codemirror_mode": {
    "name": "ipython",
    "version": 3
   },
   "file_extension": ".py",
   "mimetype": "text/x-python",
   "name": "python",
   "nbconvert_exporter": "python",
   "pygments_lexer": "ipython3",
   "version": "3.5.5"
  }
 },
 "nbformat": 4,
 "nbformat_minor": 1
}
