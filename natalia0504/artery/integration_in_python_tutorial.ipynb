{
 "cells": [
  {
   "cell_type": "code",
   "execution_count": 1,
   "metadata": {},
   "outputs": [],
   "source": [
    "# source:\n",
    "# https://www.youtube.com/watch?v=4grhQ5Y_MWo"
   ]
  },
  {
   "cell_type": "code",
   "execution_count": 7,
   "metadata": {},
   "outputs": [
    {
     "data": {
      "text/plain": [
       "1.0*x**3 + 1.0*x"
      ]
     },
     "execution_count": 7,
     "metadata": {},
     "output_type": "execute_result"
    }
   ],
   "source": [
    "import sympy as sp\n",
    "x=sp.Symbol('x')\n",
    "sp.integrate(3.0*x**2+1,x)"
   ]
  },
  {
   "cell_type": "code",
   "execution_count": 6,
   "metadata": {},
   "outputs": [
    {
     "name": "stdout",
     "output_type": "stream",
     "text": [
      "(10.000000000000002, 1.1102230246251568e-13)\n"
     ]
    }
   ],
   "source": [
    "from scipy.integrate import quad\n",
    "import numpy as np\n",
    "\n",
    "def f(x):\n",
    "    return 3*x**2+1\n",
    "\n",
    "i = quad(f,0,2)\n",
    "print(i)\n",
    "#i[0] = result\n",
    "#i[1] = error"
   ]
  },
  {
   "cell_type": "code",
   "execution_count": 11,
   "metadata": {},
   "outputs": [
    {
     "data": {
      "text/plain": [
       "-exp(-x)*sin(3*x)/10 - 3*exp(-x)*cos(3*x)/10"
      ]
     },
     "execution_count": 11,
     "metadata": {},
     "output_type": "execute_result"
    }
   ],
   "source": [
    "import sympy as sp\n",
    "import numpy as np\n",
    "\n",
    "x=sp.Symbol('x')\n",
    "\n",
    "sp.integrate(sp.exp(-x)*sp.sin(3*x))\n"
   ]
  },
  {
   "cell_type": "code",
   "execution_count": 10,
   "metadata": {},
   "outputs": [
    {
     "name": "stdout",
     "output_type": "stream",
     "text": [
      "(0.29943976718048754, 5.050152988254293e-13)\n"
     ]
    }
   ],
   "source": [
    "from scipy.integrate import quad\n",
    "import numpy as np\n",
    "\n",
    "def f(x):\n",
    "    return np.exp(-x)*np.sin(3*x)\n",
    "\n",
    "i = quad(f,0,2*np.pi)\n",
    "print(i)\n",
    "#i[0] = result\n",
    "#i[1] = error"
   ]
  },
  {
   "cell_type": "code",
   "execution_count": 12,
   "metadata": {},
   "outputs": [
    {
     "data": {
      "text/plain": [
       "-0.95994*exp(-1.0417317749026*t)"
      ]
     },
     "execution_count": 12,
     "metadata": {},
     "output_type": "execute_result"
    }
   ],
   "source": [
    "import sympy as sp\n",
    "import numpy as np\n",
    "\n",
    "R = 0.9 #mmHg/cm**3/s\n",
    "r = 0.5 #mmHg/cm**3/s\n",
    "C = 1.0666 #cm**3/mmHG\n",
    "d = 0.5 #cm\n",
    "A = 0.25*np.pi*d**2 #cm**2\n",
    "\n",
    "\n",
    "t=sp.Symbol('t')\n",
    "\n",
    "B=sp.exp(-t/C/R)*((R+r)/(C*R)*)\n",
    "\n",
    "sp.integrate(B)"
   ]
  },
  {
   "cell_type": "code",
   "execution_count": null,
   "metadata": {},
   "outputs": [],
   "source": []
  }
 ],
 "metadata": {
  "kernelspec": {
   "display_name": "Python 3",
   "language": "python",
   "name": "python3"
  },
  "language_info": {
   "codemirror_mode": {
    "name": "ipython",
    "version": 3
   },
   "file_extension": ".py",
   "mimetype": "text/x-python",
   "name": "python",
   "nbconvert_exporter": "python",
   "pygments_lexer": "ipython3",
   "version": "3.6.5"
  }
 },
 "nbformat": 4,
 "nbformat_minor": 2
}
